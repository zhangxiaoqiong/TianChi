{
 "cells": [
  {
   "cell_type": "code",
   "execution_count": 6,
   "metadata": {},
   "outputs": [],
   "source": [
    "import numpy as np\n",
    "import pandas as pd\n",
    "import datetime"
   ]
  },
  {
   "cell_type": "code",
   "execution_count": 2,
   "metadata": {},
   "outputs": [],
   "source": [
    "import zipfile\n",
    "\n",
    "train_zip = zipfile.ZipFile('../data/ECommAI_EUIR_round1_train_20190701.zip')\n",
    "test_zip = zipfile.ZipFile('../data/ECommAI_EUIR_round2_train_20190821.zip')"
   ]
  },
  {
   "cell_type": "code",
   "execution_count": 4,
   "metadata": {},
   "outputs": [
    {
     "name": "stdout",
     "output_type": "stream",
     "text": [
      "['ECommAI_EUIR_round1_train_20190701/', 'ECommAI_EUIR_round1_train_20190701/item.csv', 'ECommAI_EUIR_round1_train_20190701/user.csv', 'ECommAI_EUIR_round1_train_20190701/user_behavior.csv']\n",
      "['ECommAI_EUIR_round2_train_20190816/', 'ECommAI_EUIR_round2_train_20190816/user_behavior.csv', 'ECommAI_EUIR_round2_train_20190816/item.csv', 'ECommAI_EUIR_round2_train_20190816/user.csv']\n"
     ]
    }
   ],
   "source": [
    "print(train_zip.namelist())\n",
    "print(test_zip.namelist())"
   ]
  },
  {
   "cell_type": "code",
   "execution_count": 8,
   "metadata": {},
   "outputs": [],
   "source": [
    "df_user_train = pd.read_csv(train_zip.open('ECommAI_EUIR_round1_train_20190701/user.csv'),header=None)\n",
    "df_user_train.columns = ['userID','gender','age','purchaseLevel']\n",
    "df_item_train = pd.read_csv(train_zip.open('ECommAI_EUIR_round1_train_20190701/item.csv'),header=None)\n",
    "df_item_train.columns = ['itemID','categoryID','shopID','brandID']\n",
    "#df_log_train = pd.read_csv('datalab/35680/user_behavior_train.csv',header=None)\n",
    "#df_log_train.columns = ['userID','itemID','behavior','timestap']\n",
    "\n",
    "\n",
    "df_user_test = pd.read_csv(test_zip.open('ECommAI_EUIR_round2_train_20190816/user.csv'),header=None)\n",
    "df_user_test.columns = ['userID','gender','age','purchaseLevel']\n",
    "\n",
    "df_item_test = pd.read_csv(test_zip.open('ECommAI_EUIR_round2_train_20190816/item.csv'),header=None)\n",
    "df_item_test.columns = ['itemID','categoryID','shopID','brandID']\n",
    "\n",
    "df_log_test = pd.read_csv(test_zip.open('ECommAI_EUIR_round2_train_20190816/user_behavior.csv'),header=None)\n",
    "df_log_test.columns = ['userID','itemID','behavior','timestap']"
   ]
  },
  {
   "cell_type": "code",
   "execution_count": null,
   "metadata": {},
   "outputs": [],
   "source": [
    "测试集中有5万用户。一些同学不明白指定用户为测试集的意义。实际上，在真实的推荐场景下，为了测试方案效果，会随机选取一些用户测试新方案，而剩余用户仍采用旧方案。最后，对比点击率等指标。\n",
    "\n",
    "用户的浏览（pv）、收藏（fav）、加购物车（cart）和购买（buy）的商品均认为是用户感兴趣的商品。\n",
    "一种比较自然的推荐方案是，给用户推荐最近几天感兴趣的商品。若推荐列表长度不足50，则可以用流行度高的商品填补；若推荐列表长度超过50，则可依据感兴趣程度排序。"
   ]
  },
  {
   "cell_type": "markdown",
   "metadata": {},
   "source": [
    "## Step 1. 基于用户行为日志统计item出现次数，从而获得受欢迎的商品Top50，并过滤掉大量低频item。"
   ]
  },
  {
   "cell_type": "code",
   "execution_count": 9,
   "metadata": {},
   "outputs": [],
   "source": [
    "df_item = pd.concat([df_item_train,df_item_test])\n",
    "df_item.drop_duplicates(inplace=True)\n",
    "df_item.reset_index(drop=True,inplace=True)"
   ]
  },
  {
   "cell_type": "code",
   "execution_count": 10,
   "metadata": {},
   "outputs": [],
   "source": [
    "#df_log = pd.concat([df_log_train,df_log_test])\n",
    "df_log = df_log_test.copy()\n",
    "df_log.reset_index(drop=True,inplace=True)"
   ]
  },
  {
   "cell_type": "code",
   "execution_count": null,
   "metadata": {},
   "outputs": [],
   "source": []
  },
  {
   "cell_type": "code",
   "execution_count": 11,
   "metadata": {},
   "outputs": [],
   "source": [
    "item_statistc = df_log.groupby(['itemID'])[['userID']].count()\n",
    "item_statistc.reset_index(inplace=True)\n",
    "item_statistc.columns = ['itemID','itemCount']"
   ]
  },
  {
   "cell_type": "code",
   "execution_count": null,
   "metadata": {},
   "outputs": [],
   "source": []
  },
  {
   "cell_type": "code",
   "execution_count": 12,
   "metadata": {},
   "outputs": [],
   "source": [
    "df_item = pd.merge(df_item,item_statistc)\n",
    "df_item_selected = df_item[df_item['itemCount']>1]\n",
    "df_item_selected.reset_index(drop=True,inplace=True)"
   ]
  },
  {
   "cell_type": "code",
   "execution_count": null,
   "metadata": {},
   "outputs": [],
   "source": []
  },
  {
   "cell_type": "code",
   "execution_count": 13,
   "metadata": {},
   "outputs": [],
   "source": [
    "df_item_sorted = df_item_selected.sort_values(by=['itemCount'],ascending=False)\n",
    "df_item_sorted.reset_index(drop=True,inplace=True)"
   ]
  },
  {
   "cell_type": "code",
   "execution_count": 15,
   "metadata": {},
   "outputs": [
    {
     "data": {
      "text/html": [
       "<div>\n",
       "<style scoped>\n",
       "    .dataframe tbody tr th:only-of-type {\n",
       "        vertical-align: middle;\n",
       "    }\n",
       "\n",
       "    .dataframe tbody tr th {\n",
       "        vertical-align: top;\n",
       "    }\n",
       "\n",
       "    .dataframe thead th {\n",
       "        text-align: right;\n",
       "    }\n",
       "</style>\n",
       "<table border=\"1\" class=\"dataframe\">\n",
       "  <thead>\n",
       "    <tr style=\"text-align: right;\">\n",
       "      <th></th>\n",
       "      <th>userID</th>\n",
       "      <th>itemID</th>\n",
       "      <th>behavior</th>\n",
       "      <th>timestap</th>\n",
       "    </tr>\n",
       "  </thead>\n",
       "  <tbody>\n",
       "    <tr>\n",
       "      <th>0</th>\n",
       "      <td>286924</td>\n",
       "      <td>13546315</td>\n",
       "      <td>pv</td>\n",
       "      <td>1124981</td>\n",
       "    </tr>\n",
       "    <tr>\n",
       "      <th>1</th>\n",
       "      <td>893324</td>\n",
       "      <td>19447070</td>\n",
       "      <td>cart</td>\n",
       "      <td>292579</td>\n",
       "    </tr>\n",
       "    <tr>\n",
       "      <th>2</th>\n",
       "      <td>893324</td>\n",
       "      <td>19447070</td>\n",
       "      <td>pv</td>\n",
       "      <td>296258</td>\n",
       "    </tr>\n",
       "    <tr>\n",
       "      <th>3</th>\n",
       "      <td>153813</td>\n",
       "      <td>1251077</td>\n",
       "      <td>pv</td>\n",
       "      <td>243310</td>\n",
       "    </tr>\n",
       "    <tr>\n",
       "      <th>4</th>\n",
       "      <td>1403217</td>\n",
       "      <td>19735607</td>\n",
       "      <td>pv</td>\n",
       "      <td>476795</td>\n",
       "    </tr>\n",
       "  </tbody>\n",
       "</table>\n",
       "</div>"
      ],
      "text/plain": [
       "    userID    itemID behavior  timestap\n",
       "0   286924  13546315       pv   1124981\n",
       "1   893324  19447070     cart    292579\n",
       "2   893324  19447070       pv    296258\n",
       "3   153813   1251077       pv    243310\n",
       "4  1403217  19735607       pv    476795"
      ]
     },
     "execution_count": 15,
     "metadata": {},
     "output_type": "execute_result"
    }
   ],
   "source": [
    "df_log.head()"
   ]
  },
  {
   "cell_type": "markdown",
   "metadata": {},
   "source": [
    "## Step 2. 依据近三天的日志为测试用户推荐，并进行填补等。"
   ]
  },
  {
   "cell_type": "code",
   "execution_count": 19,
   "metadata": {},
   "outputs": [
    {
     "ename": "MemoryError",
     "evalue": "",
     "output_type": "error",
     "traceback": [
      "\u001b[1;31m---------------------------------------------------------------------------\u001b[0m",
      "\u001b[1;31mMemoryError\u001b[0m                               Traceback (most recent call last)",
      "\u001b[1;32m<ipython-input-19-01fdcbb5705a>\u001b[0m in \u001b[0;36m<module>\u001b[1;34m\u001b[0m\n\u001b[1;32m----> 1\u001b[1;33m \u001b[0mdf_log\u001b[0m\u001b[1;33m[\u001b[0m\u001b[1;34m'timestap'\u001b[0m\u001b[1;33m]\u001b[0m \u001b[1;33m=\u001b[0m \u001b[0mdf_log\u001b[0m\u001b[1;33m[\u001b[0m\u001b[1;34m'timestap'\u001b[0m\u001b[1;33m]\u001b[0m\u001b[1;33m.\u001b[0m\u001b[0mapply\u001b[0m\u001b[1;33m(\u001b[0m\u001b[1;32mlambda\u001b[0m \u001b[0mx\u001b[0m \u001b[1;33m:\u001b[0m \u001b[0mdatetime\u001b[0m\u001b[1;33m.\u001b[0m\u001b[0mdatetime\u001b[0m\u001b[1;33m(\u001b[0m\u001b[1;36m2019\u001b[0m\u001b[1;33m,\u001b[0m\u001b[1;36m8\u001b[0m\u001b[1;33m,\u001b[0m\u001b[1;36m12\u001b[0m\u001b[1;33m)\u001b[0m \u001b[1;33m+\u001b[0m \u001b[0mdatetime\u001b[0m\u001b[1;33m.\u001b[0m\u001b[0mtimedelta\u001b[0m\u001b[1;33m(\u001b[0m\u001b[0mseconds\u001b[0m\u001b[1;33m=\u001b[0m\u001b[0mx\u001b[0m\u001b[1;33m)\u001b[0m\u001b[1;33m)\u001b[0m\u001b[1;33m\u001b[0m\u001b[1;33m\u001b[0m\u001b[0m\n\u001b[0m\u001b[0;32m      2\u001b[0m \u001b[0mdf_log\u001b[0m\u001b[1;33m.\u001b[0m\u001b[0mhead\u001b[0m\u001b[1;33m(\u001b[0m\u001b[1;33m)\u001b[0m\u001b[1;33m\u001b[0m\u001b[1;33m\u001b[0m\u001b[0m\n",
      "\u001b[1;32mC:\\ProgramData\\Anaconda3\\lib\\site-packages\\pandas\\core\\series.py\u001b[0m in \u001b[0;36mapply\u001b[1;34m(self, func, convert_dtype, args, **kwds)\u001b[0m\n\u001b[0;32m   3589\u001b[0m             \u001b[1;32melse\u001b[0m\u001b[1;33m:\u001b[0m\u001b[1;33m\u001b[0m\u001b[1;33m\u001b[0m\u001b[0m\n\u001b[0;32m   3590\u001b[0m                 \u001b[0mvalues\u001b[0m \u001b[1;33m=\u001b[0m \u001b[0mself\u001b[0m\u001b[1;33m.\u001b[0m\u001b[0mastype\u001b[0m\u001b[1;33m(\u001b[0m\u001b[0mobject\u001b[0m\u001b[1;33m)\u001b[0m\u001b[1;33m.\u001b[0m\u001b[0mvalues\u001b[0m\u001b[1;33m\u001b[0m\u001b[1;33m\u001b[0m\u001b[0m\n\u001b[1;32m-> 3591\u001b[1;33m                 \u001b[0mmapped\u001b[0m \u001b[1;33m=\u001b[0m \u001b[0mlib\u001b[0m\u001b[1;33m.\u001b[0m\u001b[0mmap_infer\u001b[0m\u001b[1;33m(\u001b[0m\u001b[0mvalues\u001b[0m\u001b[1;33m,\u001b[0m \u001b[0mf\u001b[0m\u001b[1;33m,\u001b[0m \u001b[0mconvert\u001b[0m\u001b[1;33m=\u001b[0m\u001b[0mconvert_dtype\u001b[0m\u001b[1;33m)\u001b[0m\u001b[1;33m\u001b[0m\u001b[1;33m\u001b[0m\u001b[0m\n\u001b[0m\u001b[0;32m   3592\u001b[0m \u001b[1;33m\u001b[0m\u001b[0m\n\u001b[0;32m   3593\u001b[0m         \u001b[1;32mif\u001b[0m \u001b[0mlen\u001b[0m\u001b[1;33m(\u001b[0m\u001b[0mmapped\u001b[0m\u001b[1;33m)\u001b[0m \u001b[1;32mand\u001b[0m \u001b[0misinstance\u001b[0m\u001b[1;33m(\u001b[0m\u001b[0mmapped\u001b[0m\u001b[1;33m[\u001b[0m\u001b[1;36m0\u001b[0m\u001b[1;33m]\u001b[0m\u001b[1;33m,\u001b[0m \u001b[0mSeries\u001b[0m\u001b[1;33m)\u001b[0m\u001b[1;33m:\u001b[0m\u001b[1;33m\u001b[0m\u001b[1;33m\u001b[0m\u001b[0m\n",
      "\u001b[1;32mpandas/_libs/lib.pyx\u001b[0m in \u001b[0;36mpandas._libs.lib.map_infer\u001b[1;34m()\u001b[0m\n",
      "\u001b[1;32m<ipython-input-19-01fdcbb5705a>\u001b[0m in \u001b[0;36m<lambda>\u001b[1;34m(x)\u001b[0m\n\u001b[1;32m----> 1\u001b[1;33m \u001b[0mdf_log\u001b[0m\u001b[1;33m[\u001b[0m\u001b[1;34m'timestap'\u001b[0m\u001b[1;33m]\u001b[0m \u001b[1;33m=\u001b[0m \u001b[0mdf_log\u001b[0m\u001b[1;33m[\u001b[0m\u001b[1;34m'timestap'\u001b[0m\u001b[1;33m]\u001b[0m\u001b[1;33m.\u001b[0m\u001b[0mapply\u001b[0m\u001b[1;33m(\u001b[0m\u001b[1;32mlambda\u001b[0m \u001b[0mx\u001b[0m \u001b[1;33m:\u001b[0m \u001b[0mdatetime\u001b[0m\u001b[1;33m.\u001b[0m\u001b[0mdatetime\u001b[0m\u001b[1;33m(\u001b[0m\u001b[1;36m2019\u001b[0m\u001b[1;33m,\u001b[0m\u001b[1;36m8\u001b[0m\u001b[1;33m,\u001b[0m\u001b[1;36m12\u001b[0m\u001b[1;33m)\u001b[0m \u001b[1;33m+\u001b[0m \u001b[0mdatetime\u001b[0m\u001b[1;33m.\u001b[0m\u001b[0mtimedelta\u001b[0m\u001b[1;33m(\u001b[0m\u001b[0mseconds\u001b[0m\u001b[1;33m=\u001b[0m\u001b[0mx\u001b[0m\u001b[1;33m)\u001b[0m\u001b[1;33m)\u001b[0m\u001b[1;33m\u001b[0m\u001b[1;33m\u001b[0m\u001b[0m\n\u001b[0m\u001b[0;32m      2\u001b[0m \u001b[0mdf_log\u001b[0m\u001b[1;33m.\u001b[0m\u001b[0mhead\u001b[0m\u001b[1;33m(\u001b[0m\u001b[1;33m)\u001b[0m\u001b[1;33m\u001b[0m\u001b[1;33m\u001b[0m\u001b[0m\n",
      "\u001b[1;31mMemoryError\u001b[0m: "
     ]
    }
   ],
   "source": [
    "df_log['timestap'] = df_log['timestap'].apply(lambda x : datetime.datetime(2019,8,12) + datetime.timedelta(seconds=x))\n",
    "df_log.head()"
   ]
  },
  {
   "cell_type": "code",
   "execution_count": null,
   "metadata": {},
   "outputs": [],
   "source": [
    "df_log['day'] = df_log['date'].dt.day\n",
    "df_log['weekday'] = df_log['date'].dt.weekday + 1"
   ]
  },
  {
   "cell_type": "code",
   "execution_count": null,
   "metadata": {},
   "outputs": [],
   "source": [
    "df_log_selected = df_log[df_log['day']>=17]"
   ]
  },
  {
   "cell_type": "code",
   "execution_count": null,
   "metadata": {},
   "outputs": [],
   "source": []
  },
  {
   "cell_type": "code",
   "execution_count": null,
   "metadata": {},
   "outputs": [],
   "source": [
    "df_log_selected.loc[df_log_selected['behavior']=='pv','behavior'] = 1\n",
    "df_log_selected.loc[df_log_selected['behavior']=='fav','behavior'] = 2\n",
    "df_log_selected.loc[df_log_selected['behavior']=='cart','behavior'] = 3\n",
    "df_log_selected.loc[df_log_selected['behavior']=='buy','behavior'] = 4"
   ]
  },
  {
   "cell_type": "code",
   "execution_count": null,
   "metadata": {},
   "outputs": [],
   "source": [
    "item_Top50 = list( df_item_sorted.loc[:49,'itemID'] )"
   ]
  },
  {
   "cell_type": "code",
   "execution_count": null,
   "metadata": {},
   "outputs": [],
   "source": []
  },
  {
   "cell_type": "markdown",
   "metadata": {},
   "source": [
    "## 为测试集中用户做推荐。"
   ]
  },
  {
   "cell_type": "code",
   "execution_count": null,
   "metadata": {},
   "outputs": [],
   "source": [
    "file = open('../data/submission_round2.csv','w')\n"
   ]
  },
  {
   "cell_type": "code",
   "execution_count": null,
   "metadata": {},
   "outputs": [],
   "source": [
    "count = 0\n",
    "\n",
    "for each_user in df_user_test['userID']:\n",
    "\n",
    "    count = count + 1\n",
    "    \n",
    "    if count%500==0:\n",
    "        print(count)\n",
    "    \n",
    "    df_tmp = df_log_selected[df_log_selected['userID']==each_user]\n",
    "    df_tmp.reset_index(inplace=True,drop=True)\n",
    "    \n",
    "    itemListTmp = []\n",
    "    \n",
    "    if len(df_tmp) > 0:\n",
    "        \n",
    "        item_sta = df_tmp.groupby(['itemID'])['behavior'].sum()\n",
    "        item_sta = item_sta.reset_index()\n",
    "        item_sta_sorted = item_sta.sort_values(by=['behavior'],ascending=False)\n",
    "        item_sta_sorted.reset_index(inplace=True,drop=True)\n",
    "        \n",
    "        itemListTmp = itemListTmp + list(item_sta_sorted.loc[:49,'itemID'])\n",
    "        \n",
    "        if len(itemListTmp) < 50:\n",
    "            \n",
    "            itemListTmp = itemListTmp + item_Top50[:(50-len(itemListTmp))]\n",
    "        \n",
    "    else:\n",
    "        \n",
    "        itemListTmp = item_Top50.copy()\n",
    "    \n",
    "    strTmp = str(each_user) + ',' + ','.join(map(lambda x:str(x),itemListTmp))\n",
    "    \n",
    "    file.write(strTmp+'\\n')\n",
    "\n",
    "file.close()"
   ]
  }
 ],
 "metadata": {
  "kernelspec": {
   "display_name": "Python 3",
   "language": "python",
   "name": "python3"
  },
  "language_info": {
   "codemirror_mode": {
    "name": "ipython",
    "version": 3
   },
   "file_extension": ".py",
   "mimetype": "text/x-python",
   "name": "python",
   "nbconvert_exporter": "python",
   "pygments_lexer": "ipython3",
   "version": "3.7.3"
  }
 },
 "nbformat": 4,
 "nbformat_minor": 2
}
