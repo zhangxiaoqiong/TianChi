{
 "cells": [
  {
   "cell_type": "code",
   "execution_count": 1,
   "metadata": {},
   "outputs": [],
   "source": [
    "import numpy as np\n",
    "import pandas as pd\n",
    "import datetime"
   ]
  },
  {
   "cell_type": "code",
   "execution_count": 1,
   "metadata": {},
   "outputs": [
    {
     "ename": "FileNotFoundError",
     "evalue": "[Errno 2] No such file or directory: '../data/ECommAI_EUIR_round2_train_20190821.zip'",
     "output_type": "error",
     "traceback": [
      "\u001b[1;31m---------------------------------------------------------------------------\u001b[0m",
      "\u001b[1;31mFileNotFoundError\u001b[0m                         Traceback (most recent call last)",
      "\u001b[1;32m<ipython-input-1-ea906a6fae8c>\u001b[0m in \u001b[0;36m<module>\u001b[1;34m\u001b[0m\n\u001b[0;32m      2\u001b[0m \u001b[1;33m\u001b[0m\u001b[0m\n\u001b[0;32m      3\u001b[0m \u001b[0mtrain_zip\u001b[0m \u001b[1;33m=\u001b[0m \u001b[0mzipfile\u001b[0m\u001b[1;33m.\u001b[0m\u001b[0mZipFile\u001b[0m\u001b[1;33m(\u001b[0m\u001b[1;34m'../data/ECommAI_EUIR_round1_train_20190701.zip'\u001b[0m\u001b[1;33m)\u001b[0m\u001b[1;33m\u001b[0m\u001b[1;33m\u001b[0m\u001b[0m\n\u001b[1;32m----> 4\u001b[1;33m \u001b[0mtest_zip\u001b[0m \u001b[1;33m=\u001b[0m \u001b[0mzipfile\u001b[0m\u001b[1;33m.\u001b[0m\u001b[0mZipFile\u001b[0m\u001b[1;33m(\u001b[0m\u001b[1;34m'../data/ECommAI_EUIR_round2_train_20190821.zip'\u001b[0m\u001b[1;33m)\u001b[0m\u001b[1;33m\u001b[0m\u001b[1;33m\u001b[0m\u001b[0m\n\u001b[0m",
      "\u001b[1;32mC:\\ProgramData\\Anaconda3\\lib\\zipfile.py\u001b[0m in \u001b[0;36m__init__\u001b[1;34m(self, file, mode, compression, allowZip64, compresslevel)\u001b[0m\n\u001b[0;32m   1202\u001b[0m             \u001b[1;32mwhile\u001b[0m \u001b[1;32mTrue\u001b[0m\u001b[1;33m:\u001b[0m\u001b[1;33m\u001b[0m\u001b[1;33m\u001b[0m\u001b[0m\n\u001b[0;32m   1203\u001b[0m                 \u001b[1;32mtry\u001b[0m\u001b[1;33m:\u001b[0m\u001b[1;33m\u001b[0m\u001b[1;33m\u001b[0m\u001b[0m\n\u001b[1;32m-> 1204\u001b[1;33m                     \u001b[0mself\u001b[0m\u001b[1;33m.\u001b[0m\u001b[0mfp\u001b[0m \u001b[1;33m=\u001b[0m \u001b[0mio\u001b[0m\u001b[1;33m.\u001b[0m\u001b[0mopen\u001b[0m\u001b[1;33m(\u001b[0m\u001b[0mfile\u001b[0m\u001b[1;33m,\u001b[0m \u001b[0mfilemode\u001b[0m\u001b[1;33m)\u001b[0m\u001b[1;33m\u001b[0m\u001b[1;33m\u001b[0m\u001b[0m\n\u001b[0m\u001b[0;32m   1205\u001b[0m                 \u001b[1;32mexcept\u001b[0m \u001b[0mOSError\u001b[0m\u001b[1;33m:\u001b[0m\u001b[1;33m\u001b[0m\u001b[1;33m\u001b[0m\u001b[0m\n\u001b[0;32m   1206\u001b[0m                     \u001b[1;32mif\u001b[0m \u001b[0mfilemode\u001b[0m \u001b[1;32min\u001b[0m \u001b[0mmodeDict\u001b[0m\u001b[1;33m:\u001b[0m\u001b[1;33m\u001b[0m\u001b[1;33m\u001b[0m\u001b[0m\n",
      "\u001b[1;31mFileNotFoundError\u001b[0m: [Errno 2] No such file or directory: '../data/ECommAI_EUIR_round2_train_20190821.zip'"
     ]
    }
   ],
   "source": [
    "import zipfile\n",
    "\n",
    "train_zip = zipfile.ZipFile('../data/ECommAI_EUIR_round1_train_20190701.zip')\n",
    "test_zip = zipfile.ZipFile('../data/ECommAI_EUIR_round2_train_20190821.zip')"
   ]
  },
  {
   "cell_type": "code",
   "execution_count": 3,
   "metadata": {},
   "outputs": [
    {
     "name": "stdout",
     "output_type": "stream",
     "text": [
      "['ECommAI_EUIR_round1_train_20190701/', 'ECommAI_EUIR_round1_train_20190701/item.csv', 'ECommAI_EUIR_round1_train_20190701/user.csv', 'ECommAI_EUIR_round1_train_20190701/user_behavior.csv']\n",
      "['ECommAI_EUIR_round1_testB_20190809/', 'ECommAI_EUIR_round1_testB_20190809/item.csv', 'ECommAI_EUIR_round1_testB_20190809/user.csv', 'ECommAI_EUIR_round1_testB_20190809/user_behavior.csv']\n"
     ]
    }
   ],
   "source": [
    "print(train_zip.namelist())\n",
    "print(test_zip.namelist())"
   ]
  },
  {
   "cell_type": "code",
   "execution_count": 4,
   "metadata": {},
   "outputs": [],
   "source": [
    "df_user_train = pd.read_csv(train_zip.open('ECommAI_EUIR_round1_train_20190701/user.csv'),header=None)\n",
    "df_user_train.columns = ['userID','gender','age','purchaseLevel']\n",
    "df_item_train = pd.read_csv(train_zip.open('ECommAI_EUIR_round1_train_20190701/item.csv'),header=None)\n",
    "df_item_train.columns = ['itemID','categoryID','shopID','brandID']\n",
    "#df_log_train = pd.read_csv('datalab/35680/user_behavior_train.csv',header=None)\n",
    "#df_log_train.columns = ['userID','itemID','behavior','timestap']\n",
    "\n",
    "\n",
    "df_user_test = pd.read_csv(test_zip.open('ECommAI_EUIR_round2_train_20190821/user.csv'),header=None)\n",
    "df_user_test.columns = ['userID','gender','age','purchaseLevel']\n",
    "\n",
    "df_item_test = pd.read_csv(test_zip.open('ECommAI_EUIR_round2_train_20190821/item.csv'),header=None)\n",
    "df_item_test.columns = ['itemID','categoryID','shopID','brandID']\n",
    "\n",
    "df_log_test = pd.read_csv(test_zip.open('ECommAI_EUIR_round2_train_20190821/user_behavior.csv'),header=None)\n",
    "df_log_test.columns = ['userID','itemID','behavior','timestap']"
   ]
  },
  {
   "cell_type": "code",
   "execution_count": null,
   "metadata": {},
   "outputs": [],
   "source": [
    "测试集中有5万用户。一些同学不明白指定用户为测试集的意义。实际上，在真实的推荐场景下，为了测试方案效果，会随机选取一些用户测试新方案，而剩余用户仍采用旧方案。最后，对比点击率等指标。\n",
    "\n",
    "用户的浏览（pv）、收藏（fav）、加购物车（cart）和购买（buy）的商品均认为是用户感兴趣的商品。\n",
    "一种比较自然的推荐方案是，给用户推荐最近几天感兴趣的商品。若推荐列表长度不足50，则可以用流行度高的商品填补；若推荐列表长度超过50，则可依据感兴趣程度排序。"
   ]
  },
  {
   "cell_type": "markdown",
   "metadata": {},
   "source": [
    "## Step 1. 基于用户行为日志统计item出现次数，从而获得受欢迎的商品Top50，并过滤掉大量低频item。"
   ]
  },
  {
   "cell_type": "code",
   "execution_count": 5,
   "metadata": {},
   "outputs": [],
   "source": [
    "df_item = pd.concat([df_item_train,df_item_test])\n",
    "df_item.drop_duplicates(inplace=True)\n",
    "df_item.reset_index(drop=True,inplace=True)"
   ]
  },
  {
   "cell_type": "code",
   "execution_count": 6,
   "metadata": {},
   "outputs": [],
   "source": [
    "#df_log = pd.concat([df_log_train,df_log_test])\n",
    "df_log = df_log_test.copy()\n",
    "df_log.reset_index(drop=True,inplace=True)"
   ]
  },
  {
   "cell_type": "code",
   "execution_count": null,
   "metadata": {},
   "outputs": [],
   "source": []
  },
  {
   "cell_type": "code",
   "execution_count": 7,
   "metadata": {},
   "outputs": [],
   "source": [
    "item_statistc = df_log.groupby(['itemID'])[['userID']].count()\n",
    "item_statistc.reset_index(inplace=True)\n",
    "item_statistc.columns = ['itemID','itemCount']"
   ]
  },
  {
   "cell_type": "code",
   "execution_count": null,
   "metadata": {},
   "outputs": [],
   "source": []
  },
  {
   "cell_type": "code",
   "execution_count": 8,
   "metadata": {},
   "outputs": [],
   "source": [
    "df_item = pd.merge(df_item,item_statistc)\n",
    "df_item_selected = df_item[df_item['itemCount']>1]\n",
    "df_item_selected.reset_index(drop=True,inplace=True)"
   ]
  },
  {
   "cell_type": "code",
   "execution_count": null,
   "metadata": {},
   "outputs": [],
   "source": []
  },
  {
   "cell_type": "code",
   "execution_count": 9,
   "metadata": {},
   "outputs": [],
   "source": [
    "df_item_sorted = df_item_selected.sort_values(by=['itemCount'],ascending=False)\n",
    "df_item_sorted.reset_index(drop=True,inplace=True)"
   ]
  },
  {
   "cell_type": "code",
   "execution_count": null,
   "metadata": {},
   "outputs": [],
   "source": []
  },
  {
   "cell_type": "markdown",
   "metadata": {},
   "source": [
    "## Step 2. 依据近三天的日志为测试用户推荐，并进行填补等。"
   ]
  },
  {
   "cell_type": "code",
   "execution_count": 10,
   "metadata": {},
   "outputs": [],
   "source": [
    "df_log['date'] = df_log['timestap'].apply(lambda x : datetime.datetime(2019,7,5) + datetime.timedelta(seconds=x))"
   ]
  },
  {
   "cell_type": "code",
   "execution_count": 11,
   "metadata": {},
   "outputs": [],
   "source": [
    "df_log['day'] = df_log['date'].dt.day\n",
    "df_log['weekday'] = df_log['date'].dt.weekday + 1"
   ]
  },
  {
   "cell_type": "code",
   "execution_count": 12,
   "metadata": {},
   "outputs": [],
   "source": [
    "df_log_selected = df_log[df_log['day']>=17]"
   ]
  },
  {
   "cell_type": "code",
   "execution_count": null,
   "metadata": {},
   "outputs": [],
   "source": []
  },
  {
   "cell_type": "code",
   "execution_count": 13,
   "metadata": {},
   "outputs": [
    {
     "name": "stderr",
     "output_type": "stream",
     "text": [
      "C:\\ProgramData\\Anaconda3\\lib\\site-packages\\pandas\\core\\indexing.py:543: SettingWithCopyWarning: \n",
      "A value is trying to be set on a copy of a slice from a DataFrame.\n",
      "Try using .loc[row_indexer,col_indexer] = value instead\n",
      "\n",
      "See the caveats in the documentation: http://pandas.pydata.org/pandas-docs/stable/indexing.html#indexing-view-versus-copy\n",
      "  self.obj[item] = s\n"
     ]
    }
   ],
   "source": [
    "df_log_selected.loc[df_log_selected['behavior']=='pv','behavior'] = 1\n",
    "df_log_selected.loc[df_log_selected['behavior']=='fav','behavior'] = 2\n",
    "df_log_selected.loc[df_log_selected['behavior']=='cart','behavior'] = 3\n",
    "df_log_selected.loc[df_log_selected['behavior']=='buy','behavior'] = 4"
   ]
  },
  {
   "cell_type": "code",
   "execution_count": 14,
   "metadata": {},
   "outputs": [],
   "source": [
    "item_Top50 = list( df_item_sorted.loc[:49,'itemID'] )"
   ]
  },
  {
   "cell_type": "code",
   "execution_count": null,
   "metadata": {},
   "outputs": [],
   "source": []
  },
  {
   "cell_type": "markdown",
   "metadata": {},
   "source": [
    "## 为测试集中用户做推荐。"
   ]
  },
  {
   "cell_type": "code",
   "execution_count": 15,
   "metadata": {},
   "outputs": [],
   "source": [
    "file = open('../data/submission_b.csv','w')\n"
   ]
  },
  {
   "cell_type": "code",
   "execution_count": 16,
   "metadata": {},
   "outputs": [
    {
     "name": "stdout",
     "output_type": "stream",
     "text": [
      "500\n",
      "1000\n",
      "1500\n",
      "2000\n",
      "2500\n",
      "3000\n",
      "3500\n",
      "4000\n",
      "4500\n",
      "5000\n",
      "5500\n",
      "6000\n",
      "6500\n",
      "7000\n",
      "7500\n",
      "8000\n",
      "8500\n",
      "9000\n",
      "9500\n",
      "10000\n",
      "10500\n",
      "11000\n",
      "11500\n",
      "12000\n",
      "12500\n",
      "13000\n",
      "13500\n",
      "14000\n",
      "14500\n",
      "15000\n",
      "15500\n",
      "16000\n",
      "16500\n",
      "17000\n",
      "17500\n",
      "18000\n",
      "18500\n",
      "19000\n",
      "19500\n",
      "20000\n",
      "20500\n",
      "21000\n",
      "21500\n",
      "22000\n",
      "22500\n",
      "23000\n",
      "23500\n",
      "24000\n",
      "24500\n",
      "25000\n",
      "25500\n",
      "26000\n",
      "26500\n",
      "27000\n",
      "27500\n",
      "28000\n",
      "28500\n",
      "29000\n",
      "29500\n",
      "30000\n",
      "30500\n",
      "31000\n",
      "31500\n",
      "32000\n",
      "32500\n",
      "33000\n",
      "33500\n",
      "34000\n",
      "34500\n",
      "35000\n",
      "35500\n",
      "36000\n",
      "36500\n",
      "37000\n",
      "37500\n",
      "38000\n",
      "38500\n",
      "39000\n",
      "39500\n",
      "40000\n",
      "40500\n",
      "41000\n",
      "41500\n",
      "42000\n",
      "42500\n",
      "43000\n",
      "43500\n",
      "44000\n",
      "44500\n",
      "45000\n",
      "45500\n",
      "46000\n",
      "46500\n",
      "47000\n",
      "47500\n",
      "48000\n",
      "48500\n",
      "49000\n",
      "49500\n",
      "50000\n"
     ]
    }
   ],
   "source": [
    "count = 0\n",
    "\n",
    "for each_user in df_user_test['userID']:\n",
    "\n",
    "    count = count + 1\n",
    "    \n",
    "    if count%500==0:\n",
    "        print(count)\n",
    "    \n",
    "    df_tmp = df_log_selected[df_log_selected['userID']==each_user]\n",
    "    df_tmp.reset_index(inplace=True,drop=True)\n",
    "    \n",
    "    itemListTmp = []\n",
    "    \n",
    "    if len(df_tmp) > 0:\n",
    "        \n",
    "        item_sta = df_tmp.groupby(['itemID'])['behavior'].sum()\n",
    "        item_sta = item_sta.reset_index()\n",
    "        item_sta_sorted = item_sta.sort_values(by=['behavior'],ascending=False)\n",
    "        item_sta_sorted.reset_index(inplace=True,drop=True)\n",
    "        \n",
    "        itemListTmp = itemListTmp + list(item_sta_sorted.loc[:49,'itemID'])\n",
    "        \n",
    "        if len(itemListTmp) < 50:\n",
    "            \n",
    "            itemListTmp = itemListTmp + item_Top50[:(50-len(itemListTmp))]\n",
    "        \n",
    "    else:\n",
    "        \n",
    "        itemListTmp = item_Top50.copy()\n",
    "    \n",
    "    strTmp = str(each_user) + ',' + ','.join(map(lambda x:str(x),itemListTmp))\n",
    "    \n",
    "    file.write(strTmp+'\\n')\n",
    "\n",
    "file.close()"
   ]
  }
 ],
 "metadata": {
  "kernelspec": {
   "display_name": "Python 3",
   "language": "python",
   "name": "python3"
  },
  "language_info": {
   "codemirror_mode": {
    "name": "ipython",
    "version": 3
   },
   "file_extension": ".py",
   "mimetype": "text/x-python",
   "name": "python",
   "nbconvert_exporter": "python",
   "pygments_lexer": "ipython3",
   "version": "3.7.3"
  }
 },
 "nbformat": 4,
 "nbformat_minor": 2
}
